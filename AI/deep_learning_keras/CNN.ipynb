{
 "cells": [
  {
   "cell_type": "markdown",
   "metadata": {},
   "source": [
    "# Convolutional Neural Networks with Keras"
   ]
  },
  {
   "cell_type": "code",
   "execution_count": 1,
   "metadata": {},
   "outputs": [],
   "source": [
    "import keras\n",
    "from keras.models import Sequential\n",
    "from keras.layers import Dense\n",
    "from keras.utils import to_categorical"
   ]
  },
  {
   "cell_type": "code",
   "execution_count": 4,
   "metadata": {},
   "outputs": [],
   "source": [
    "from keras.layers import Conv2D # to add convolutional layers\n",
    "from keras.layers import MaxPooling2D # to add pooling layers\n",
    "from keras.layers import Flatten # to flatten data for fully connected layers"
   ]
  },
  {
   "cell_type": "markdown",
   "metadata": {},
   "source": [
    "### CNN with One set of convolutional and pooling layers"
   ]
  },
  {
   "cell_type": "code",
   "execution_count": 5,
   "metadata": {},
   "outputs": [],
   "source": [
    "# import data\n",
    "from keras.datasets import mnist\n",
    "\n",
    "# load data\n",
    "(X_train, y_train), (X_test, y_test) = mnist.load_data()\n"
   ]
  },
  {
   "cell_type": "code",
   "execution_count": 6,
   "metadata": {},
   "outputs": [
    {
     "data": {
      "text/plain": [
       "(60000, 28, 28)"
      ]
     },
     "execution_count": 6,
     "metadata": {},
     "output_type": "execute_result"
    }
   ],
   "source": [
    "X_train.shape"
   ]
  },
  {
   "cell_type": "code",
   "execution_count": 7,
   "metadata": {},
   "outputs": [],
   "source": [
    "\n",
    "# reshape to be [samples][pixels][width][height]\n",
    "X_train = X_train.reshape(X_train.shape[0], 28, 28, 1).astype('float32')\n",
    "X_test = X_test.reshape(X_test.shape[0], 28, 28, 1).astype('float32')"
   ]
  },
  {
   "cell_type": "code",
   "execution_count": 8,
   "metadata": {},
   "outputs": [
    {
     "data": {
      "text/plain": [
       "(60000, 28, 28, 1)"
      ]
     },
     "execution_count": 8,
     "metadata": {},
     "output_type": "execute_result"
    }
   ],
   "source": [
    "X_train.shape"
   ]
  },
  {
   "cell_type": "code",
   "execution_count": 9,
   "metadata": {},
   "outputs": [],
   "source": [
    "X_train = X_train / 255 # normalize training data\n",
    "X_test = X_test / 255 # normalize test data"
   ]
  },
  {
   "cell_type": "code",
   "execution_count": 10,
   "metadata": {},
   "outputs": [
    {
     "data": {
      "text/plain": [
       "(60000,)"
      ]
     },
     "execution_count": 10,
     "metadata": {},
     "output_type": "execute_result"
    }
   ],
   "source": [
    "y_train.shape"
   ]
  },
  {
   "cell_type": "code",
   "execution_count": 12,
   "metadata": {},
   "outputs": [],
   "source": [
    "# Next, let's convert the target variable into binary categories\n",
    "\n",
    "y_train = to_categorical(y_train)\n",
    "y_test = to_categorical(y_test)\n",
    "\n",
    "num_classes = y_test.shape[1] # number of categories"
   ]
  },
  {
   "cell_type": "code",
   "execution_count": 13,
   "metadata": {},
   "outputs": [
    {
     "data": {
      "text/plain": [
       "(60000, 10)"
      ]
     },
     "execution_count": 13,
     "metadata": {},
     "output_type": "execute_result"
    }
   ],
   "source": [
    "y_train.shape"
   ]
  },
  {
   "cell_type": "code",
   "execution_count": 14,
   "metadata": {},
   "outputs": [],
   "source": [
    "def convolutional_model():\n",
    "    \n",
    "    # create model\n",
    "    model = Sequential()\n",
    "    model.add(Conv2D(16, (5, 5), strides=(1, 1), activation='relu', input_shape=(28, 28, 1)))\n",
    "    model.add(MaxPooling2D(pool_size=(2, 2), strides=(2, 2)))\n",
    "    \n",
    "    model.add(Flatten())\n",
    "    model.add(Dense(100, activation='relu'))\n",
    "    model.add(Dense(num_classes, activation='softmax'))\n",
    "    \n",
    "    # compile model\n",
    "    model.compile(optimizer='adam', loss='categorical_crossentropy',  metrics=['accuracy'])\n",
    "    return model"
   ]
  },
  {
   "cell_type": "code",
   "execution_count": 15,
   "metadata": {},
   "outputs": [
    {
     "name": "stderr",
     "output_type": "stream",
     "text": [
      "c:\\Users\\mariu\\AppData\\Local\\Programs\\Python\\Python39\\lib\\site-packages\\keras\\src\\layers\\convolutional\\base_conv.py:107: UserWarning: Do not pass an `input_shape`/`input_dim` argument to a layer. When using Sequential models, prefer using an `Input(shape)` object as the first layer in the model instead.\n",
      "  super().__init__(activity_regularizer=activity_regularizer, **kwargs)\n"
     ]
    },
    {
     "name": "stdout",
     "output_type": "stream",
     "text": [
      "Epoch 1/10\n",
      "300/300 - 9s - 32ms/step - accuracy: 0.9180 - loss: 0.2937 - val_accuracy: 0.9655 - val_loss: 0.1157\n",
      "Epoch 2/10\n",
      "300/300 - 8s - 27ms/step - accuracy: 0.9744 - loss: 0.0868 - val_accuracy: 0.9808 - val_loss: 0.0597\n",
      "Epoch 3/10\n",
      "300/300 - 8s - 26ms/step - accuracy: 0.9822 - loss: 0.0598 - val_accuracy: 0.9837 - val_loss: 0.0489\n",
      "Epoch 4/10\n",
      "300/300 - 8s - 26ms/step - accuracy: 0.9872 - loss: 0.0440 - val_accuracy: 0.9840 - val_loss: 0.0458\n",
      "Epoch 5/10\n",
      "300/300 - 8s - 26ms/step - accuracy: 0.9890 - loss: 0.0364 - val_accuracy: 0.9866 - val_loss: 0.0408\n",
      "Epoch 6/10\n",
      "300/300 - 8s - 26ms/step - accuracy: 0.9907 - loss: 0.0300 - val_accuracy: 0.9882 - val_loss: 0.0384\n",
      "Epoch 7/10\n",
      "300/300 - 8s - 26ms/step - accuracy: 0.9929 - loss: 0.0250 - val_accuracy: 0.9868 - val_loss: 0.0408\n",
      "Epoch 8/10\n",
      "300/300 - 8s - 27ms/step - accuracy: 0.9940 - loss: 0.0206 - val_accuracy: 0.9864 - val_loss: 0.0444\n",
      "Epoch 9/10\n",
      "300/300 - 8s - 27ms/step - accuracy: 0.9952 - loss: 0.0168 - val_accuracy: 0.9878 - val_loss: 0.0365\n",
      "Epoch 10/10\n",
      "300/300 - 8s - 27ms/step - accuracy: 0.9957 - loss: 0.0143 - val_accuracy: 0.9880 - val_loss: 0.0421\n",
      "Accuracy: 0.9879999756813049 \n",
      " Error: 1.2000024318695068\n"
     ]
    }
   ],
   "source": [
    "# build the model\n",
    "model = convolutional_model()\n",
    "\n",
    "# fit the model\n",
    "model.fit(X_train, y_train, validation_data=(X_test, y_test), epochs=10, batch_size=200, verbose=2)\n",
    "\n",
    "# evaluate the model\n",
    "scores = model.evaluate(X_test, y_test, verbose=0)\n",
    "print(\"Accuracy: {} \\n Error: {}\".format(scores[1], 100-scores[1]*100))"
   ]
  },
  {
   "cell_type": "markdown",
   "metadata": {},
   "source": [
    "### Convolutional Layer with two sets of convolutional and pooling layers\n"
   ]
  },
  {
   "cell_type": "code",
   "execution_count": 16,
   "metadata": {},
   "outputs": [],
   "source": [
    "def convolutional_model():\n",
    "    \n",
    "    # create model\n",
    "    model = Sequential()\n",
    "    model.add(Conv2D(16, (5, 5), activation='relu', input_shape=(28, 28, 1)))\n",
    "    model.add(MaxPooling2D(pool_size=(2, 2), strides=(2, 2)))\n",
    "    \n",
    "    model.add(Conv2D(8, (2, 2), activation='relu'))\n",
    "    model.add(MaxPooling2D(pool_size=(2, 2), strides=(2, 2)))\n",
    "    \n",
    "    model.add(Flatten())\n",
    "    model.add(Dense(100, activation='relu'))\n",
    "    model.add(Dense(num_classes, activation='softmax'))\n",
    "    \n",
    "    # Compile model\n",
    "    model.compile(optimizer='adam', loss='categorical_crossentropy',  metrics=['accuracy'])\n",
    "    return model"
   ]
  },
  {
   "cell_type": "code",
   "execution_count": 17,
   "metadata": {},
   "outputs": [
    {
     "name": "stdout",
     "output_type": "stream",
     "text": [
      "Epoch 1/10\n",
      "300/300 - 11s - 36ms/step - accuracy: 0.8782 - loss: 0.4401 - val_accuracy: 0.9629 - val_loss: 0.1256\n",
      "Epoch 2/10\n",
      "300/300 - 10s - 33ms/step - accuracy: 0.9657 - loss: 0.1140 - val_accuracy: 0.9731 - val_loss: 0.0819\n",
      "Epoch 3/10\n",
      "300/300 - 9s - 32ms/step - accuracy: 0.9748 - loss: 0.0833 - val_accuracy: 0.9801 - val_loss: 0.0628\n",
      "Epoch 4/10\n",
      "300/300 - 10s - 32ms/step - accuracy: 0.9790 - loss: 0.0697 - val_accuracy: 0.9799 - val_loss: 0.0619\n",
      "Epoch 5/10\n",
      "300/300 - 10s - 34ms/step - accuracy: 0.9823 - loss: 0.0586 - val_accuracy: 0.9830 - val_loss: 0.0520\n",
      "Epoch 6/10\n",
      "300/300 - 9s - 31ms/step - accuracy: 0.9837 - loss: 0.0540 - val_accuracy: 0.9861 - val_loss: 0.0426\n",
      "Epoch 7/10\n",
      "300/300 - 9s - 31ms/step - accuracy: 0.9852 - loss: 0.0485 - val_accuracy: 0.9856 - val_loss: 0.0457\n",
      "Epoch 8/10\n",
      "300/300 - 9s - 31ms/step - accuracy: 0.9860 - loss: 0.0447 - val_accuracy: 0.9888 - val_loss: 0.0367\n",
      "Epoch 9/10\n",
      "300/300 - 10s - 32ms/step - accuracy: 0.9879 - loss: 0.0396 - val_accuracy: 0.9839 - val_loss: 0.0466\n",
      "Epoch 10/10\n",
      "300/300 - 9s - 31ms/step - accuracy: 0.9887 - loss: 0.0365 - val_accuracy: 0.9878 - val_loss: 0.0347\n",
      "Accuracy: 0.9878000020980835 \n",
      " Error: 1.2199997901916504\n"
     ]
    }
   ],
   "source": [
    "# build the model\n",
    "model = convolutional_model()\n",
    "\n",
    "# fit the model\n",
    "model.fit(X_train, y_train, validation_data=(X_test, y_test), epochs=10, batch_size=200, verbose=2)\n",
    "\n",
    "# evaluate the model\n",
    "scores = model.evaluate(X_test, y_test, verbose=0)\n",
    "print(\"Accuracy: {} \\n Error: {}\".format(scores[1], 100-scores[1]*100))\n"
   ]
  }
 ],
 "metadata": {
  "kernelspec": {
   "display_name": "Python 3",
   "language": "python",
   "name": "python3"
  },
  "language_info": {
   "codemirror_mode": {
    "name": "ipython",
    "version": 3
   },
   "file_extension": ".py",
   "mimetype": "text/x-python",
   "name": "python",
   "nbconvert_exporter": "python",
   "pygments_lexer": "ipython3",
   "version": "3.9.13"
  }
 },
 "nbformat": 4,
 "nbformat_minor": 2
}
